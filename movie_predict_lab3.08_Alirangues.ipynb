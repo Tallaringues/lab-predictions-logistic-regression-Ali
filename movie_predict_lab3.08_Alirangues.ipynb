{
 "cells": [
  {
   "attachments": {},
   "cell_type": "markdown",
   "metadata": {},
   "source": [
    "# Lab Making predictions with logistic regression\n",
    "_Week3 - Day4_"
   ]
  },
  {
   "attachments": {},
   "cell_type": "markdown",
   "metadata": {},
   "source": [
    "## Aim\n",
    "In order to optimize our inventory, we would like to know which films will be rented. We are asked to create a model to predict it. So we use the information we have from May 2005 to create the model"
   ]
  },
  {
   "attachments": {},
   "cell_type": "markdown",
   "metadata": {},
   "source": [
    "## Instructions\n",
    "- Create a query or queries to extract the information you think may be relevant for building the prediction model. It should include some film features and some rental features (X).\n",
    "- Create a query to get the list of all unique film titles and a boolean indicating if it was rented (rental_date) in May 2005. (Create new column called - 'rented_in_may'). This will be our TARGET (y) variable.\n",
    "- Read the data into a Pandas dataframe. At this point you should have 1000 rows. Number of columns depends on the number of features you chose.\n",
    "- Analyze extracted features (X) and transform them. You may need to encode some categorical variables, or scale numerical variables.\n",
    "- Create a logistic regression model to predict 'rented_in_may' from the cleaned data.\n",
    "- Evaluate the results."
   ]
  },
  {
   "cell_type": "code",
   "execution_count": 2,
   "metadata": {},
   "outputs": [],
   "source": [
    "import pymysql\n",
    "from sqlalchemy import create_engine\n",
    "import pandas as pd\n",
    "import getpass  # To get the password without showing the input\n",
    "password = getpass.getpass()"
   ]
  },
  {
   "cell_type": "code",
   "execution_count": 3,
   "metadata": {},
   "outputs": [],
   "source": [
    "# connect database and define engine\n",
    "connection_string = 'mysql+pymysql://root:' + password + '@localhost/sakila'\n",
    "engine = create_engine(connection_string)"
   ]
  },
  {
   "attachments": {},
   "cell_type": "markdown",
   "metadata": {},
   "source": [
    "## Features selection\n",
    "- Film: title, length, category(from table category), rental rate\n",
    "- Rental: rental_date, return_date\n",
    "\n",
    "(In a more advanced model might be interesting to add the distance between customer address and the store or the language - but the movies seem to be all in one)"
   ]
  },
  {
   "cell_type": "code",
   "execution_count": 4,
   "metadata": {},
   "outputs": [
    {
     "data": {
      "text/plain": [
       "Index(['film_id', 'title', 'description', 'release_year', 'language_id',\n",
       "       'original_language_id', 'rental_duration', 'rental_rate', 'length',\n",
       "       'replacement_cost', 'rating', 'special_features', 'last_update'],\n",
       "      dtype='object')"
      ]
     },
     "metadata": {},
     "output_type": "display_data"
    },
    {
     "data": {
      "text/html": [
       "<div>\n",
       "<style scoped>\n",
       "    .dataframe tbody tr th:only-of-type {\n",
       "        vertical-align: middle;\n",
       "    }\n",
       "\n",
       "    .dataframe tbody tr th {\n",
       "        vertical-align: top;\n",
       "    }\n",
       "\n",
       "    .dataframe thead th {\n",
       "        text-align: right;\n",
       "    }\n",
       "</style>\n",
       "<table border=\"1\" class=\"dataframe\">\n",
       "  <thead>\n",
       "    <tr style=\"text-align: right;\">\n",
       "      <th></th>\n",
       "      <th>film_id</th>\n",
       "      <th>title</th>\n",
       "      <th>description</th>\n",
       "      <th>release_year</th>\n",
       "      <th>language_id</th>\n",
       "      <th>original_language_id</th>\n",
       "      <th>rental_duration</th>\n",
       "      <th>rental_rate</th>\n",
       "      <th>length</th>\n",
       "      <th>replacement_cost</th>\n",
       "      <th>rating</th>\n",
       "      <th>special_features</th>\n",
       "      <th>last_update</th>\n",
       "    </tr>\n",
       "  </thead>\n",
       "  <tbody>\n",
       "    <tr>\n",
       "      <th>0</th>\n",
       "      <td>1</td>\n",
       "      <td>ACADEMY DINOSAUR</td>\n",
       "      <td>A Epic Drama of a Feminist And a Mad Scientist...</td>\n",
       "      <td>2006</td>\n",
       "      <td>1</td>\n",
       "      <td>None</td>\n",
       "      <td>6</td>\n",
       "      <td>0.99</td>\n",
       "      <td>86</td>\n",
       "      <td>20.99</td>\n",
       "      <td>PG</td>\n",
       "      <td>{Deleted Scenes, Behind the Scenes}</td>\n",
       "      <td>2006-02-15 05:03:42</td>\n",
       "    </tr>\n",
       "    <tr>\n",
       "      <th>1</th>\n",
       "      <td>2</td>\n",
       "      <td>ACE GOLDFINGER</td>\n",
       "      <td>A Astounding Epistle of a Database Administrat...</td>\n",
       "      <td>2006</td>\n",
       "      <td>1</td>\n",
       "      <td>None</td>\n",
       "      <td>3</td>\n",
       "      <td>4.99</td>\n",
       "      <td>48</td>\n",
       "      <td>12.99</td>\n",
       "      <td>G</td>\n",
       "      <td>{Trailers, Deleted Scenes}</td>\n",
       "      <td>2006-02-15 05:03:42</td>\n",
       "    </tr>\n",
       "    <tr>\n",
       "      <th>2</th>\n",
       "      <td>3</td>\n",
       "      <td>ADAPTATION HOLES</td>\n",
       "      <td>A Astounding Reflection of a Lumberjack And a ...</td>\n",
       "      <td>2006</td>\n",
       "      <td>1</td>\n",
       "      <td>None</td>\n",
       "      <td>7</td>\n",
       "      <td>2.99</td>\n",
       "      <td>50</td>\n",
       "      <td>18.99</td>\n",
       "      <td>NC-17</td>\n",
       "      <td>{Trailers, Deleted Scenes}</td>\n",
       "      <td>2006-02-15 05:03:42</td>\n",
       "    </tr>\n",
       "    <tr>\n",
       "      <th>3</th>\n",
       "      <td>4</td>\n",
       "      <td>AFFAIR PREJUDICE</td>\n",
       "      <td>A Fanciful Documentary of a Frisbee And a Lumb...</td>\n",
       "      <td>2006</td>\n",
       "      <td>1</td>\n",
       "      <td>None</td>\n",
       "      <td>5</td>\n",
       "      <td>2.99</td>\n",
       "      <td>117</td>\n",
       "      <td>26.99</td>\n",
       "      <td>G</td>\n",
       "      <td>{Behind the Scenes, Commentaries}</td>\n",
       "      <td>2006-02-15 05:03:42</td>\n",
       "    </tr>\n",
       "    <tr>\n",
       "      <th>4</th>\n",
       "      <td>5</td>\n",
       "      <td>AFRICAN EGG</td>\n",
       "      <td>A Fast-Paced Documentary of a Pastry Chef And ...</td>\n",
       "      <td>2006</td>\n",
       "      <td>1</td>\n",
       "      <td>None</td>\n",
       "      <td>6</td>\n",
       "      <td>2.99</td>\n",
       "      <td>130</td>\n",
       "      <td>22.99</td>\n",
       "      <td>G</td>\n",
       "      <td>{Deleted Scenes}</td>\n",
       "      <td>2006-02-15 05:03:42</td>\n",
       "    </tr>\n",
       "  </tbody>\n",
       "</table>\n",
       "</div>"
      ],
      "text/plain": [
       "   film_id             title  \\\n",
       "0        1  ACADEMY DINOSAUR   \n",
       "1        2    ACE GOLDFINGER   \n",
       "2        3  ADAPTATION HOLES   \n",
       "3        4  AFFAIR PREJUDICE   \n",
       "4        5       AFRICAN EGG   \n",
       "\n",
       "                                         description  release_year  \\\n",
       "0  A Epic Drama of a Feminist And a Mad Scientist...          2006   \n",
       "1  A Astounding Epistle of a Database Administrat...          2006   \n",
       "2  A Astounding Reflection of a Lumberjack And a ...          2006   \n",
       "3  A Fanciful Documentary of a Frisbee And a Lumb...          2006   \n",
       "4  A Fast-Paced Documentary of a Pastry Chef And ...          2006   \n",
       "\n",
       "   language_id original_language_id  rental_duration  rental_rate  length  \\\n",
       "0            1                 None                6         0.99      86   \n",
       "1            1                 None                3         4.99      48   \n",
       "2            1                 None                7         2.99      50   \n",
       "3            1                 None                5         2.99     117   \n",
       "4            1                 None                6         2.99     130   \n",
       "\n",
       "   replacement_cost rating                     special_features  \\\n",
       "0             20.99     PG  {Deleted Scenes, Behind the Scenes}   \n",
       "1             12.99      G           {Trailers, Deleted Scenes}   \n",
       "2             18.99  NC-17           {Trailers, Deleted Scenes}   \n",
       "3             26.99      G    {Behind the Scenes, Commentaries}   \n",
       "4             22.99      G                     {Deleted Scenes}   \n",
       "\n",
       "          last_update  \n",
       "0 2006-02-15 05:03:42  \n",
       "1 2006-02-15 05:03:42  \n",
       "2 2006-02-15 05:03:42  \n",
       "3 2006-02-15 05:03:42  \n",
       "4 2006-02-15 05:03:42  "
      ]
     },
     "metadata": {},
     "output_type": "display_data"
    }
   ],
   "source": [
    "film = pd.read_sql_table('film', engine)\n",
    "display(film.columns)\n",
    "display(film.head())"
   ]
  },
  {
   "cell_type": "code",
   "execution_count": 5,
   "metadata": {},
   "outputs": [
    {
     "data": {
      "text/plain": [
       "array([2006], dtype=int64)"
      ]
     },
     "metadata": {},
     "output_type": "display_data"
    },
    {
     "data": {
      "text/plain": [
       "array([1], dtype=int64)"
      ]
     },
     "metadata": {},
     "output_type": "display_data"
    },
    {
     "data": {
      "text/plain": [
       "array([None], dtype=object)"
      ]
     },
     "metadata": {},
     "output_type": "display_data"
    }
   ],
   "source": [
    "# These are potentially interesting categories to include in the model.\n",
    "# However, after checking them, it turns out that they only have one value.\n",
    "# So they are not useful/relevant for the prediction\n",
    "display(film['release_year'].unique())\n",
    "display(film['language_id'].unique())\n",
    "display(film['original_language_id'].unique())"
   ]
  },
  {
   "cell_type": "code",
   "execution_count": 6,
   "metadata": {},
   "outputs": [
    {
     "name": "stderr",
     "output_type": "stream",
     "text": [
      "c:\\Users\\marta\\anaconda3\\lib\\site-packages\\pandas\\io\\sql.py:1779: SAWarning: Did not recognize type 'geometry' of column 'location'\n",
      "  tbl = Table(\n"
     ]
    },
    {
     "data": {
      "text/html": [
       "<div>\n",
       "<style scoped>\n",
       "    .dataframe tbody tr th:only-of-type {\n",
       "        vertical-align: middle;\n",
       "    }\n",
       "\n",
       "    .dataframe tbody tr th {\n",
       "        vertical-align: top;\n",
       "    }\n",
       "\n",
       "    .dataframe thead th {\n",
       "        text-align: right;\n",
       "    }\n",
       "</style>\n",
       "<table border=\"1\" class=\"dataframe\">\n",
       "  <thead>\n",
       "    <tr style=\"text-align: right;\">\n",
       "      <th></th>\n",
       "      <th>rental_id</th>\n",
       "      <th>rental_date</th>\n",
       "      <th>inventory_id</th>\n",
       "      <th>customer_id</th>\n",
       "      <th>return_date</th>\n",
       "      <th>staff_id</th>\n",
       "      <th>last_update</th>\n",
       "    </tr>\n",
       "  </thead>\n",
       "  <tbody>\n",
       "    <tr>\n",
       "      <th>0</th>\n",
       "      <td>1</td>\n",
       "      <td>2005-05-24 22:53:30</td>\n",
       "      <td>367</td>\n",
       "      <td>130</td>\n",
       "      <td>2005-05-26 22:04:30</td>\n",
       "      <td>1</td>\n",
       "      <td>2006-02-15 21:30:53</td>\n",
       "    </tr>\n",
       "    <tr>\n",
       "      <th>1</th>\n",
       "      <td>2</td>\n",
       "      <td>2005-05-24 22:54:33</td>\n",
       "      <td>1525</td>\n",
       "      <td>459</td>\n",
       "      <td>2005-05-28 19:40:33</td>\n",
       "      <td>1</td>\n",
       "      <td>2006-02-15 21:30:53</td>\n",
       "    </tr>\n",
       "    <tr>\n",
       "      <th>2</th>\n",
       "      <td>3</td>\n",
       "      <td>2005-05-24 23:03:39</td>\n",
       "      <td>1711</td>\n",
       "      <td>408</td>\n",
       "      <td>2005-06-01 22:12:39</td>\n",
       "      <td>1</td>\n",
       "      <td>2006-02-15 21:30:53</td>\n",
       "    </tr>\n",
       "    <tr>\n",
       "      <th>3</th>\n",
       "      <td>4</td>\n",
       "      <td>2005-05-24 23:04:41</td>\n",
       "      <td>2452</td>\n",
       "      <td>333</td>\n",
       "      <td>2005-06-03 01:43:41</td>\n",
       "      <td>2</td>\n",
       "      <td>2006-02-15 21:30:53</td>\n",
       "    </tr>\n",
       "    <tr>\n",
       "      <th>4</th>\n",
       "      <td>5</td>\n",
       "      <td>2005-05-24 23:05:21</td>\n",
       "      <td>2079</td>\n",
       "      <td>222</td>\n",
       "      <td>2005-06-02 04:33:21</td>\n",
       "      <td>1</td>\n",
       "      <td>2006-02-15 21:30:53</td>\n",
       "    </tr>\n",
       "  </tbody>\n",
       "</table>\n",
       "</div>"
      ],
      "text/plain": [
       "   rental_id         rental_date  inventory_id  customer_id  \\\n",
       "0          1 2005-05-24 22:53:30           367          130   \n",
       "1          2 2005-05-24 22:54:33          1525          459   \n",
       "2          3 2005-05-24 23:03:39          1711          408   \n",
       "3          4 2005-05-24 23:04:41          2452          333   \n",
       "4          5 2005-05-24 23:05:21          2079          222   \n",
       "\n",
       "          return_date  staff_id         last_update  \n",
       "0 2005-05-26 22:04:30         1 2006-02-15 21:30:53  \n",
       "1 2005-05-28 19:40:33         1 2006-02-15 21:30:53  \n",
       "2 2005-06-01 22:12:39         1 2006-02-15 21:30:53  \n",
       "3 2005-06-03 01:43:41         2 2006-02-15 21:30:53  \n",
       "4 2005-06-02 04:33:21         1 2006-02-15 21:30:53  "
      ]
     },
     "execution_count": 6,
     "metadata": {},
     "output_type": "execute_result"
    }
   ],
   "source": [
    "rental = pd.read_sql_table('rental', engine)\n",
    "rental.head()"
   ]
  },
  {
   "attachments": {},
   "cell_type": "markdown",
   "metadata": {},
   "source": [
    "Data retrieve"
   ]
  },
  {
   "cell_type": "code",
   "execution_count": 7,
   "metadata": {},
   "outputs": [],
   "source": [
    "query_data = \"\"\"\n",
    "SELECT f.title, f.rental_rate, f.length, f.rating, r.rental_date, c.name as category\n",
    "FROM film f\n",
    "JOIN inventory i ON f.film_id = i.film_id\n",
    "JOIN rental r ON i.inventory_id = r.inventory_id\n",
    "JOIN film_category fc ON f.film_id = fc.film_id\n",
    "JOIN category c ON fc.category_id = c.category_id\n",
    "\n",
    "\"\"\""
   ]
  },
  {
   "cell_type": "code",
   "execution_count": 8,
   "metadata": {},
   "outputs": [
    {
     "data": {
      "text/plain": [
       "(16045, 6)"
      ]
     },
     "metadata": {},
     "output_type": "display_data"
    },
    {
     "data": {
      "text/html": [
       "<div>\n",
       "<style scoped>\n",
       "    .dataframe tbody tr th:only-of-type {\n",
       "        vertical-align: middle;\n",
       "    }\n",
       "\n",
       "    .dataframe tbody tr th {\n",
       "        vertical-align: top;\n",
       "    }\n",
       "\n",
       "    .dataframe thead th {\n",
       "        text-align: right;\n",
       "    }\n",
       "</style>\n",
       "<table border=\"1\" class=\"dataframe\">\n",
       "  <thead>\n",
       "    <tr style=\"text-align: right;\">\n",
       "      <th></th>\n",
       "      <th>title</th>\n",
       "      <th>rental_rate</th>\n",
       "      <th>length</th>\n",
       "      <th>rating</th>\n",
       "      <th>rental_date</th>\n",
       "      <th>category</th>\n",
       "    </tr>\n",
       "  </thead>\n",
       "  <tbody>\n",
       "    <tr>\n",
       "      <th>0</th>\n",
       "      <td>AMADEUS HOLY</td>\n",
       "      <td>0.99</td>\n",
       "      <td>113</td>\n",
       "      <td>PG</td>\n",
       "      <td>2005-08-02 01:16:59</td>\n",
       "      <td>Action</td>\n",
       "    </tr>\n",
       "    <tr>\n",
       "      <th>1</th>\n",
       "      <td>AMADEUS HOLY</td>\n",
       "      <td>0.99</td>\n",
       "      <td>113</td>\n",
       "      <td>PG</td>\n",
       "      <td>2005-08-18 04:26:54</td>\n",
       "      <td>Action</td>\n",
       "    </tr>\n",
       "    <tr>\n",
       "      <th>2</th>\n",
       "      <td>AMADEUS HOLY</td>\n",
       "      <td>0.99</td>\n",
       "      <td>113</td>\n",
       "      <td>PG</td>\n",
       "      <td>2005-06-20 20:35:28</td>\n",
       "      <td>Action</td>\n",
       "    </tr>\n",
       "    <tr>\n",
       "      <th>3</th>\n",
       "      <td>AMADEUS HOLY</td>\n",
       "      <td>0.99</td>\n",
       "      <td>113</td>\n",
       "      <td>PG</td>\n",
       "      <td>2005-07-09 05:01:58</td>\n",
       "      <td>Action</td>\n",
       "    </tr>\n",
       "    <tr>\n",
       "      <th>4</th>\n",
       "      <td>AMADEUS HOLY</td>\n",
       "      <td>0.99</td>\n",
       "      <td>113</td>\n",
       "      <td>PG</td>\n",
       "      <td>2005-07-30 08:02:39</td>\n",
       "      <td>Action</td>\n",
       "    </tr>\n",
       "  </tbody>\n",
       "</table>\n",
       "</div>"
      ],
      "text/plain": [
       "          title  rental_rate  length rating         rental_date category\n",
       "0  AMADEUS HOLY         0.99     113     PG 2005-08-02 01:16:59   Action\n",
       "1  AMADEUS HOLY         0.99     113     PG 2005-08-18 04:26:54   Action\n",
       "2  AMADEUS HOLY         0.99     113     PG 2005-06-20 20:35:28   Action\n",
       "3  AMADEUS HOLY         0.99     113     PG 2005-07-09 05:01:58   Action\n",
       "4  AMADEUS HOLY         0.99     113     PG 2005-07-30 08:02:39   Action"
      ]
     },
     "metadata": {},
     "output_type": "display_data"
    }
   ],
   "source": [
    "data_film = pd.read_sql_query(query_data, engine)\n",
    "display(data_film.shape)\n",
    "display(data_film.head())"
   ]
  },
  {
   "cell_type": "code",
   "execution_count": 9,
   "metadata": {},
   "outputs": [
    {
     "data": {
      "text/plain": [
       "Timestamp('2005-05-24 22:53:30')"
      ]
     },
     "execution_count": 9,
     "metadata": {},
     "output_type": "execute_result"
    }
   ],
   "source": [
    "min(data_film['rental_date'])\n",
    "# We can see that there are no rentals before May 2005"
   ]
  },
  {
   "cell_type": "code",
   "execution_count": 10,
   "metadata": {},
   "outputs": [
    {
     "data": {
      "text/plain": [
       "min   2005-05-24 22:53:30\n",
       "max   2023-04-10 17:57:40\n",
       "Name: rental_date, dtype: datetime64[ns]"
      ]
     },
     "execution_count": 10,
     "metadata": {},
     "output_type": "execute_result"
    }
   ],
   "source": [
    "data_film['rental_date'].agg(['min', 'max'])"
   ]
  },
  {
   "attachments": {},
   "cell_type": "markdown",
   "metadata": {},
   "source": [
    "## Movie rental in May 2005\n",
    "-  Try with distinct on titles"
   ]
  },
  {
   "cell_type": "code",
   "execution_count": 11,
   "metadata": {},
   "outputs": [],
   "source": [
    "query_may = '''\n",
    "SELECT f.title,\n",
    "       MIN(r.rental_date) AS rental_date,\n",
    "       c.name AS category_name,\n",
    "       CASE WHEN YEAR(MIN(r.rental_date)) = 2005 AND MONTH(MIN(r.rental_date)) = 5\n",
    "            THEN True\n",
    "            ELSE False\n",
    "       END AS rented_in_may,\n",
    "       f.length,\n",
    "       f.rental_rate,\n",
    "       f.rating\n",
    "FROM film f\n",
    "JOIN inventory i ON f.film_id = i.film_id\n",
    "JOIN rental r ON i.inventory_id = r.inventory_id\n",
    "JOIN film_category fc ON f.film_id = fc.film_id\n",
    "JOIN category c ON fc.category_id = c.category_id\n",
    "GROUP BY f.title, c.name, f.length, f.rental_rate, f.rating;\n",
    "'''"
   ]
  },
  {
   "cell_type": "code",
   "execution_count": 12,
   "metadata": {},
   "outputs": [
    {
     "data": {
      "text/plain": [
       "(958, 7)"
      ]
     },
     "metadata": {},
     "output_type": "display_data"
    },
    {
     "data": {
      "text/html": [
       "<div>\n",
       "<style scoped>\n",
       "    .dataframe tbody tr th:only-of-type {\n",
       "        vertical-align: middle;\n",
       "    }\n",
       "\n",
       "    .dataframe tbody tr th {\n",
       "        vertical-align: top;\n",
       "    }\n",
       "\n",
       "    .dataframe thead th {\n",
       "        text-align: right;\n",
       "    }\n",
       "</style>\n",
       "<table border=\"1\" class=\"dataframe\">\n",
       "  <thead>\n",
       "    <tr style=\"text-align: right;\">\n",
       "      <th></th>\n",
       "      <th>title</th>\n",
       "      <th>rental_date</th>\n",
       "      <th>category_name</th>\n",
       "      <th>rented_in_may</th>\n",
       "      <th>length</th>\n",
       "      <th>rental_rate</th>\n",
       "      <th>rating</th>\n",
       "    </tr>\n",
       "  </thead>\n",
       "  <tbody>\n",
       "    <tr>\n",
       "      <th>0</th>\n",
       "      <td>AMADEUS HOLY</td>\n",
       "      <td>2005-05-28 12:08:37</td>\n",
       "      <td>Action</td>\n",
       "      <td>1</td>\n",
       "      <td>113</td>\n",
       "      <td>0.99</td>\n",
       "      <td>PG</td>\n",
       "    </tr>\n",
       "    <tr>\n",
       "      <th>1</th>\n",
       "      <td>AMERICAN CIRCUS</td>\n",
       "      <td>2005-05-25 21:58:58</td>\n",
       "      <td>Action</td>\n",
       "      <td>1</td>\n",
       "      <td>129</td>\n",
       "      <td>4.99</td>\n",
       "      <td>R</td>\n",
       "    </tr>\n",
       "    <tr>\n",
       "      <th>2</th>\n",
       "      <td>ANTITRUST TOMATOES</td>\n",
       "      <td>2005-05-31 16:48:43</td>\n",
       "      <td>Action</td>\n",
       "      <td>1</td>\n",
       "      <td>168</td>\n",
       "      <td>2.99</td>\n",
       "      <td>NC-17</td>\n",
       "    </tr>\n",
       "    <tr>\n",
       "      <th>3</th>\n",
       "      <td>BAREFOOT MANCHURIAN</td>\n",
       "      <td>2005-05-26 20:57:00</td>\n",
       "      <td>Action</td>\n",
       "      <td>1</td>\n",
       "      <td>129</td>\n",
       "      <td>2.99</td>\n",
       "      <td>G</td>\n",
       "    </tr>\n",
       "    <tr>\n",
       "      <th>4</th>\n",
       "      <td>BERETS AGENT</td>\n",
       "      <td>2005-05-29 23:37:00</td>\n",
       "      <td>Action</td>\n",
       "      <td>1</td>\n",
       "      <td>77</td>\n",
       "      <td>2.99</td>\n",
       "      <td>PG-13</td>\n",
       "    </tr>\n",
       "    <tr>\n",
       "      <th>5</th>\n",
       "      <td>BRIDE INTRIGUE</td>\n",
       "      <td>2005-05-29 17:28:12</td>\n",
       "      <td>Action</td>\n",
       "      <td>1</td>\n",
       "      <td>56</td>\n",
       "      <td>0.99</td>\n",
       "      <td>G</td>\n",
       "    </tr>\n",
       "    <tr>\n",
       "      <th>6</th>\n",
       "      <td>BULL SHAWSHANK</td>\n",
       "      <td>2005-06-17 09:17:39</td>\n",
       "      <td>Action</td>\n",
       "      <td>0</td>\n",
       "      <td>125</td>\n",
       "      <td>0.99</td>\n",
       "      <td>NC-17</td>\n",
       "    </tr>\n",
       "    <tr>\n",
       "      <th>7</th>\n",
       "      <td>CADDYSHACK JEDI</td>\n",
       "      <td>2005-05-29 02:18:54</td>\n",
       "      <td>Action</td>\n",
       "      <td>1</td>\n",
       "      <td>52</td>\n",
       "      <td>0.99</td>\n",
       "      <td>NC-17</td>\n",
       "    </tr>\n",
       "    <tr>\n",
       "      <th>8</th>\n",
       "      <td>CAMPUS REMEMBER</td>\n",
       "      <td>2005-05-31 09:55:04</td>\n",
       "      <td>Action</td>\n",
       "      <td>1</td>\n",
       "      <td>167</td>\n",
       "      <td>2.99</td>\n",
       "      <td>R</td>\n",
       "    </tr>\n",
       "    <tr>\n",
       "      <th>9</th>\n",
       "      <td>CASUALTIES ENCINO</td>\n",
       "      <td>2005-05-30 02:45:16</td>\n",
       "      <td>Action</td>\n",
       "      <td>1</td>\n",
       "      <td>179</td>\n",
       "      <td>4.99</td>\n",
       "      <td>G</td>\n",
       "    </tr>\n",
       "    <tr>\n",
       "      <th>10</th>\n",
       "      <td>CELEBRITY HORN</td>\n",
       "      <td>2005-05-27 20:00:04</td>\n",
       "      <td>Action</td>\n",
       "      <td>1</td>\n",
       "      <td>110</td>\n",
       "      <td>0.99</td>\n",
       "      <td>PG-13</td>\n",
       "    </tr>\n",
       "    <tr>\n",
       "      <th>11</th>\n",
       "      <td>CLUELESS BUCKET</td>\n",
       "      <td>2005-05-28 19:46:50</td>\n",
       "      <td>Action</td>\n",
       "      <td>1</td>\n",
       "      <td>95</td>\n",
       "      <td>2.99</td>\n",
       "      <td>R</td>\n",
       "    </tr>\n",
       "    <tr>\n",
       "      <th>12</th>\n",
       "      <td>CROW GREASE</td>\n",
       "      <td>2005-06-21 21:42:33</td>\n",
       "      <td>Action</td>\n",
       "      <td>0</td>\n",
       "      <td>104</td>\n",
       "      <td>0.99</td>\n",
       "      <td>PG</td>\n",
       "    </tr>\n",
       "    <tr>\n",
       "      <th>13</th>\n",
       "      <td>DANCES NONE</td>\n",
       "      <td>2005-05-31 13:54:48</td>\n",
       "      <td>Action</td>\n",
       "      <td>1</td>\n",
       "      <td>58</td>\n",
       "      <td>0.99</td>\n",
       "      <td>NC-17</td>\n",
       "    </tr>\n",
       "    <tr>\n",
       "      <th>14</th>\n",
       "      <td>DARKO DORADO</td>\n",
       "      <td>2005-05-27 03:55:25</td>\n",
       "      <td>Action</td>\n",
       "      <td>1</td>\n",
       "      <td>130</td>\n",
       "      <td>4.99</td>\n",
       "      <td>NC-17</td>\n",
       "    </tr>\n",
       "    <tr>\n",
       "      <th>15</th>\n",
       "      <td>DARN FORRESTER</td>\n",
       "      <td>2005-05-25 20:48:50</td>\n",
       "      <td>Action</td>\n",
       "      <td>1</td>\n",
       "      <td>185</td>\n",
       "      <td>4.99</td>\n",
       "      <td>G</td>\n",
       "    </tr>\n",
       "    <tr>\n",
       "      <th>16</th>\n",
       "      <td>DEVIL DESIRE</td>\n",
       "      <td>2005-05-31 07:02:09</td>\n",
       "      <td>Action</td>\n",
       "      <td>1</td>\n",
       "      <td>87</td>\n",
       "      <td>4.99</td>\n",
       "      <td>R</td>\n",
       "    </tr>\n",
       "    <tr>\n",
       "      <th>17</th>\n",
       "      <td>DRAGON SQUAD</td>\n",
       "      <td>2005-07-06 08:07:29</td>\n",
       "      <td>Action</td>\n",
       "      <td>0</td>\n",
       "      <td>170</td>\n",
       "      <td>0.99</td>\n",
       "      <td>NC-17</td>\n",
       "    </tr>\n",
       "    <tr>\n",
       "      <th>18</th>\n",
       "      <td>DREAM PICKUP</td>\n",
       "      <td>2005-05-25 08:26:13</td>\n",
       "      <td>Action</td>\n",
       "      <td>1</td>\n",
       "      <td>135</td>\n",
       "      <td>2.99</td>\n",
       "      <td>PG</td>\n",
       "    </tr>\n",
       "    <tr>\n",
       "      <th>19</th>\n",
       "      <td>DRIFTER COMMANDMENTS</td>\n",
       "      <td>2005-05-28 15:58:12</td>\n",
       "      <td>Action</td>\n",
       "      <td>1</td>\n",
       "      <td>61</td>\n",
       "      <td>4.99</td>\n",
       "      <td>PG-13</td>\n",
       "    </tr>\n",
       "  </tbody>\n",
       "</table>\n",
       "</div>"
      ],
      "text/plain": [
       "                   title         rental_date category_name  rented_in_may  \\\n",
       "0           AMADEUS HOLY 2005-05-28 12:08:37        Action              1   \n",
       "1        AMERICAN CIRCUS 2005-05-25 21:58:58        Action              1   \n",
       "2     ANTITRUST TOMATOES 2005-05-31 16:48:43        Action              1   \n",
       "3    BAREFOOT MANCHURIAN 2005-05-26 20:57:00        Action              1   \n",
       "4           BERETS AGENT 2005-05-29 23:37:00        Action              1   \n",
       "5         BRIDE INTRIGUE 2005-05-29 17:28:12        Action              1   \n",
       "6         BULL SHAWSHANK 2005-06-17 09:17:39        Action              0   \n",
       "7        CADDYSHACK JEDI 2005-05-29 02:18:54        Action              1   \n",
       "8        CAMPUS REMEMBER 2005-05-31 09:55:04        Action              1   \n",
       "9      CASUALTIES ENCINO 2005-05-30 02:45:16        Action              1   \n",
       "10        CELEBRITY HORN 2005-05-27 20:00:04        Action              1   \n",
       "11       CLUELESS BUCKET 2005-05-28 19:46:50        Action              1   \n",
       "12           CROW GREASE 2005-06-21 21:42:33        Action              0   \n",
       "13           DANCES NONE 2005-05-31 13:54:48        Action              1   \n",
       "14          DARKO DORADO 2005-05-27 03:55:25        Action              1   \n",
       "15        DARN FORRESTER 2005-05-25 20:48:50        Action              1   \n",
       "16          DEVIL DESIRE 2005-05-31 07:02:09        Action              1   \n",
       "17          DRAGON SQUAD 2005-07-06 08:07:29        Action              0   \n",
       "18          DREAM PICKUP 2005-05-25 08:26:13        Action              1   \n",
       "19  DRIFTER COMMANDMENTS 2005-05-28 15:58:12        Action              1   \n",
       "\n",
       "    length  rental_rate rating  \n",
       "0      113         0.99     PG  \n",
       "1      129         4.99      R  \n",
       "2      168         2.99  NC-17  \n",
       "3      129         2.99      G  \n",
       "4       77         2.99  PG-13  \n",
       "5       56         0.99      G  \n",
       "6      125         0.99  NC-17  \n",
       "7       52         0.99  NC-17  \n",
       "8      167         2.99      R  \n",
       "9      179         4.99      G  \n",
       "10     110         0.99  PG-13  \n",
       "11      95         2.99      R  \n",
       "12     104         0.99     PG  \n",
       "13      58         0.99  NC-17  \n",
       "14     130         4.99  NC-17  \n",
       "15     185         4.99      G  \n",
       "16      87         4.99      R  \n",
       "17     170         0.99  NC-17  \n",
       "18     135         2.99     PG  \n",
       "19      61         4.99  PG-13  "
      ]
     },
     "metadata": {},
     "output_type": "display_data"
    }
   ],
   "source": [
    "data_may = pd.read_sql_query(query_may, engine)\n",
    "display(data_may.shape)\n",
    "display(data_may.head(20))"
   ]
  },
  {
   "cell_type": "code",
   "execution_count": 13,
   "metadata": {},
   "outputs": [
    {
     "name": "stdout",
     "output_type": "stream",
     "text": [
      "958\n"
     ]
    }
   ],
   "source": [
    "# double-check that indeed the titles are unique -> should be the same number are rows\n",
    "uniqueValues = data_may['title'].nunique()\n",
    "print(uniqueValues)"
   ]
  },
  {
   "attachments": {},
   "cell_type": "markdown",
   "metadata": {},
   "source": [
    "## Data exploration"
   ]
  },
  {
   "cell_type": "code",
   "execution_count": 14,
   "metadata": {},
   "outputs": [
    {
     "data": {
      "text/plain": [
       "title                    object\n",
       "rental_date      datetime64[ns]\n",
       "category_name            object\n",
       "rented_in_may             int64\n",
       "length                    int64\n",
       "rental_rate             float64\n",
       "rating                   object\n",
       "dtype: object"
      ]
     },
     "execution_count": 14,
     "metadata": {},
     "output_type": "execute_result"
    }
   ],
   "source": [
    "# check data types\n",
    "data_may.dtypes"
   ]
  },
  {
   "cell_type": "code",
   "execution_count": 15,
   "metadata": {},
   "outputs": [
    {
     "data": {
      "text/plain": [
       "title            0\n",
       "rental_date      0\n",
       "category_name    0\n",
       "rented_in_may    0\n",
       "length           0\n",
       "rental_rate      0\n",
       "rating           0\n",
       "dtype: int64"
      ]
     },
     "execution_count": 15,
     "metadata": {},
     "output_type": "execute_result"
    }
   ],
   "source": [
    "# check if there are missing values\n",
    "data_may.isna().sum()"
   ]
  },
  {
   "attachments": {},
   "cell_type": "markdown",
   "metadata": {},
   "source": [
    "### Categorical variables"
   ]
  },
  {
   "cell_type": "code",
   "execution_count": 16,
   "metadata": {},
   "outputs": [
    {
     "data": {
      "text/plain": [
       "Sports         73\n",
       "Family         67\n",
       "Foreign        67\n",
       "Animation      64\n",
       "Documentary    63\n",
       "Action         61\n",
       "Drama          61\n",
       "New            60\n",
       "Sci-Fi         59\n",
       "Children       58\n",
       "Games          58\n",
       "Comedy         56\n",
       "Classics       54\n",
       "Horror         53\n",
       "Travel         53\n",
       "Music          51\n",
       "Name: category_name, dtype: int64"
      ]
     },
     "execution_count": 16,
     "metadata": {},
     "output_type": "execute_result"
    }
   ],
   "source": [
    "data_may['category_name'].value_counts(dropna=False)\n",
    "# no class imbalance"
   ]
  },
  {
   "cell_type": "code",
   "execution_count": 17,
   "metadata": {},
   "outputs": [
    {
     "data": {
      "text/plain": [
       "PG-13    213\n",
       "NC-17    202\n",
       "R        189\n",
       "PG       183\n",
       "G        171\n",
       "Name: rating, dtype: int64"
      ]
     },
     "execution_count": 17,
     "metadata": {},
     "output_type": "execute_result"
    }
   ],
   "source": [
    "data_may['rating'].value_counts(dropna=False)\n",
    "# no big class imbalance"
   ]
  },
  {
   "attachments": {},
   "cell_type": "markdown",
   "metadata": {},
   "source": [
    "### Numerical variables"
   ]
  },
  {
   "cell_type": "code",
   "execution_count": 18,
   "metadata": {},
   "outputs": [],
   "source": [
    "import numpy as np\n",
    "import pandas as pd"
   ]
  },
  {
   "cell_type": "code",
   "execution_count": 19,
   "metadata": {},
   "outputs": [],
   "source": [
    "data_may_num = data_may.select_dtypes(include = np.number)"
   ]
  },
  {
   "cell_type": "code",
   "execution_count": 20,
   "metadata": {},
   "outputs": [
    {
     "data": {
      "text/html": [
       "<div>\n",
       "<style scoped>\n",
       "    .dataframe tbody tr th:only-of-type {\n",
       "        vertical-align: middle;\n",
       "    }\n",
       "\n",
       "    .dataframe tbody tr th {\n",
       "        vertical-align: top;\n",
       "    }\n",
       "\n",
       "    .dataframe thead th {\n",
       "        text-align: right;\n",
       "    }\n",
       "</style>\n",
       "<table border=\"1\" class=\"dataframe\">\n",
       "  <thead>\n",
       "    <tr style=\"text-align: right;\">\n",
       "      <th></th>\n",
       "      <th>count</th>\n",
       "      <th>mean</th>\n",
       "      <th>std</th>\n",
       "      <th>min</th>\n",
       "      <th>25%</th>\n",
       "      <th>50%</th>\n",
       "      <th>75%</th>\n",
       "      <th>max</th>\n",
       "    </tr>\n",
       "  </thead>\n",
       "  <tbody>\n",
       "    <tr>\n",
       "      <th>rented_in_may</th>\n",
       "      <td>958.0</td>\n",
       "      <td>0.716075</td>\n",
       "      <td>0.451136</td>\n",
       "      <td>0.00</td>\n",
       "      <td>0.00</td>\n",
       "      <td>1.00</td>\n",
       "      <td>1.00</td>\n",
       "      <td>1.00</td>\n",
       "    </tr>\n",
       "    <tr>\n",
       "      <th>length</th>\n",
       "      <td>958.0</td>\n",
       "      <td>115.490605</td>\n",
       "      <td>40.471844</td>\n",
       "      <td>46.00</td>\n",
       "      <td>80.25</td>\n",
       "      <td>114.00</td>\n",
       "      <td>150.00</td>\n",
       "      <td>185.00</td>\n",
       "    </tr>\n",
       "    <tr>\n",
       "      <th>rental_rate</th>\n",
       "      <td>958.0</td>\n",
       "      <td>2.977474</td>\n",
       "      <td>1.643152</td>\n",
       "      <td>0.99</td>\n",
       "      <td>0.99</td>\n",
       "      <td>2.99</td>\n",
       "      <td>4.99</td>\n",
       "      <td>4.99</td>\n",
       "    </tr>\n",
       "  </tbody>\n",
       "</table>\n",
       "</div>"
      ],
      "text/plain": [
       "               count        mean        std    min    25%     50%     75%  \\\n",
       "rented_in_may  958.0    0.716075   0.451136   0.00   0.00    1.00    1.00   \n",
       "length         958.0  115.490605  40.471844  46.00  80.25  114.00  150.00   \n",
       "rental_rate    958.0    2.977474   1.643152   0.99   0.99    2.99    4.99   \n",
       "\n",
       "                  max  \n",
       "rented_in_may    1.00  \n",
       "length         185.00  \n",
       "rental_rate      4.99  "
      ]
     },
     "execution_count": 20,
     "metadata": {},
     "output_type": "execute_result"
    }
   ],
   "source": [
    "data_may_num.describe().T"
   ]
  },
  {
   "cell_type": "code",
   "execution_count": 21,
   "metadata": {},
   "outputs": [
    {
     "data": {
      "text/plain": [
       "1    686\n",
       "0    272\n",
       "Name: rented_in_may, dtype: int64"
      ]
     },
     "execution_count": 21,
     "metadata": {},
     "output_type": "execute_result"
    }
   ],
   "source": [
    "data_may_num['rented_in_may'].value_counts(dropna=False) # class imbalance -> we will deal with this in future labs"
   ]
  },
  {
   "cell_type": "code",
   "execution_count": 22,
   "metadata": {},
   "outputs": [],
   "source": [
    "import seaborn as sns\n",
    "import matplotlib.pyplot as plt\n",
    "%matplotlib inline"
   ]
  },
  {
   "cell_type": "code",
   "execution_count": 23,
   "metadata": {},
   "outputs": [
    {
     "data": {
      "image/png": "[encoded data removed]",
      "text/plain": [
       "<Figure size 1000x1000 with 3 Axes>"
      ]
     },
     "metadata": {},
     "output_type": "display_data"
    }
   ],
   "source": [
    "def draw_histograms(df, variables, n_rows, n_cols):\n",
    "    fig=plt.figure()\n",
    "    for i, var_name in enumerate(variables):\n",
    "        ax=fig.add_subplot(n_rows,n_cols,i+1)\n",
    "        df[var_name].hist(bins=70,ax=ax,figsize=(10,10))\n",
    "        ax.set_title(var_name)\n",
    "        ax.grid(False)\n",
    "    fig.suptitle('Distributions of numerical variables')\n",
    "    fig.tight_layout()  \n",
    "    plt.show()\n",
    "\n",
    "draw_histograms(data_may_num, data_may_num.columns, 5, 2) "
   ]
  },
  {
   "cell_type": "code",
   "execution_count": 24,
   "metadata": {},
   "outputs": [
    {
     "data": {
      "text/plain": [
       "array([0.99, 4.99, 2.99])"
      ]
     },
     "metadata": {},
     "output_type": "display_data"
    }
   ],
   "source": [
    "display(data_may_num['rental_rate'].unique())\n",
    "# only 3 values -> categorical"
   ]
  },
  {
   "cell_type": "code",
   "execution_count": 25,
   "metadata": {},
   "outputs": [
    {
     "data": {
      "text/plain": [
       "0.99    326\n",
       "4.99    320\n",
       "2.99    312\n",
       "Name: rental_rate, dtype: int64"
      ]
     },
     "execution_count": 25,
     "metadata": {},
     "output_type": "execute_result"
    }
   ],
   "source": [
    "data_may['rental_rate'] = data_may['rental_rate'].astype('object')\n",
    "# change it in the original table so it's already done before the split\n",
    "# numerical table only created for data exploration\n",
    "data_may['rental_rate'].value_counts()\n",
    "# no class imbalance"
   ]
  },
  {
   "cell_type": "code",
   "execution_count": 26,
   "metadata": {},
   "outputs": [
    {
     "data": {
      "image/png": "[encoded data removed]",
      "text/plain": [
       "<Figure size 500x500 with 1 Axes>"
      ]
     },
     "metadata": {},
     "output_type": "display_data"
    },
    {
     "data": {
      "image/png": "[encoded data removed]",
      "text/plain": [
       "<Figure size 500x500 with 1 Axes>"
      ]
     },
     "metadata": {},
     "output_type": "display_data"
    }
   ],
   "source": [
    "def plot_distributions(df):\n",
    "    numerical_columns = df.select_dtypes(np.number)\n",
    "    for col in numerical_columns:\n",
    "        sns.displot(df [col], bins=70)\n",
    "        plt.show()\n",
    "\n",
    "plot_distributions(data_may)        "
   ]
  },
  {
   "cell_type": "code",
   "execution_count": 29,
   "metadata": {},
   "outputs": [],
   "source": [
    "def plot_distributions(df):\n",
    "    num_cols = df.select_dtypes(np.number).columns.tolist()\n",
    "    cat_cols = df.select_dtypes(include=['object', 'category']).columns.tolist()\n",
    "\n",
    "    # Remove 'rented_in_may' variable from the list of numerical columns\n",
    "    num_cols.remove('rented_in_may')\n",
    "    # Remove 'title' variable from the list of categorical columns\n",
    "    cat_cols.remove('title')\n",
    "    \n",
    "    for col in num_cols:\n",
    "        sns.histplot(data=df, x=col, kde=True, bins=70)\n",
    "        plt.show()\n",
    "    \n",
    "    for col in cat_cols:\n",
    "        sns.countplot(data=df, y=col, orient = 'h')\n",
    "        plt.show()"
   ]
  },
  {
   "cell_type": "code",
   "execution_count": 30,
   "metadata": {},
   "outputs": [
    {
     "data": {
      "image/png": "[encoded data removed]",
      "text/plain": [
       "<Figure size 640x480 with 1 Axes>"
      ]
     },
     "metadata": {},
     "output_type": "display_data"
    },
    {
     "data": {
      "image/png": "[encoded data removed]",
      "text/plain": [
       "<Figure size 640x480 with 1 Axes>"
      ]
     },
     "metadata": {},
     "output_type": "display_data"
    },
    {
     "data": {
      "image/png": "[encoded data removed]",
      "text/plain": [
       "<Figure size 640x480 with 1 Axes>"
      ]
     },
     "metadata": {},
     "output_type": "display_data"
    },
    {
     "data": {
      "image/png": "[encoded data removed]",
      "text/plain": [
       "<Figure size 640x480 with 1 Axes>"
      ]
     },
     "metadata": {},
     "output_type": "display_data"
    }
   ],
   "source": [
    "plot_distributions(data_may)"
   ]
  },
  {
   "cell_type": "code",
   "execution_count": 31,
   "metadata": {},
   "outputs": [
    {
     "data": {
      "image/png": "[encoded data removed]",
      "text/plain": [
       "<Figure size 1000x800 with 2 Axes>"
      ]
     },
     "metadata": {},
     "output_type": "display_data"
    }
   ],
   "source": [
    "# Multicollinearity\n",
    "corr_matrix=data_may_num.corr() # default: Pearson\n",
    "fig, ax = plt.subplots(figsize=(10, 8))\n",
    "ax = sns.heatmap(corr_matrix, annot=True)\n",
    "plt.show()\n",
    "\n",
    "# Here 'rental_rate' is still included to explore the relationship with length and with the dependent variable. As we can see, there's not much correlation"
   ]
  },
  {
   "attachments": {},
   "cell_type": "markdown",
   "metadata": {},
   "source": [
    "## Building the model"
   ]
  },
  {
   "attachments": {},
   "cell_type": "markdown",
   "metadata": {},
   "source": [
    "### X-y and train-test split"
   ]
  },
  {
   "cell_type": "code",
   "execution_count": 32,
   "metadata": {},
   "outputs": [],
   "source": [
    "# Need to X-y-split AND train-test-split BEFORE I apply transformations, \n",
    "# then train transformation on training set only\n",
    "y = data_may['rented_in_may']\n",
    "X = data_may.drop('rented_in_may', axis=1)\n",
    "from sklearn.model_selection import train_test_split\n",
    "X_train, X_test, y_train, y_test = train_test_split(X, y, test_size=0.2, random_state=1337)"
   ]
  },
  {
   "cell_type": "code",
   "execution_count": 33,
   "metadata": {},
   "outputs": [
    {
     "data": {
      "text/plain": [
       "title                    object\n",
       "rental_date      datetime64[ns]\n",
       "category_name            object\n",
       "length                    int64\n",
       "rental_rate              object\n",
       "rating                   object\n",
       "dtype: object"
      ]
     },
     "execution_count": 33,
     "metadata": {},
     "output_type": "execute_result"
    }
   ],
   "source": [
    "X_train.dtypes"
   ]
  },
  {
   "attachments": {},
   "cell_type": "markdown",
   "metadata": {},
   "source": [
    "### Data transformations"
   ]
  },
  {
   "cell_type": "code",
   "execution_count": 34,
   "metadata": {},
   "outputs": [],
   "source": [
    "import numpy as np\n",
    "from sklearn.preprocessing import MinMaxScaler\n",
    "# from sklearn.preprocessing import StandardScaler\n",
    "\n",
    "X_train_num = X_train.select_dtypes(include = np.number)\n",
    "X_test_num  = X_test.select_dtypes(include = np.number)\n",
    "\n",
    "# Scaling data\n",
    "transformer = MinMaxScaler().fit(X_train_num) # need to keep transformer\n",
    "\n",
    "X_train_normalized = transformer.transform(X_train_num)\n",
    "X_test_normalized  = transformer.transform(X_test_num)\n",
    "\n",
    "X_train_norm_df = pd.DataFrame(X_train_normalized, columns=X_train_num.columns)\n",
    "X_test_norm_df  = pd.DataFrame(X_test_normalized, columns=X_test_num.columns)"
   ]
  },
  {
   "cell_type": "code",
   "execution_count": 35,
   "metadata": {},
   "outputs": [
    {
     "data": {
      "text/html": [
       "<div>\n",
       "<style scoped>\n",
       "    .dataframe tbody tr th:only-of-type {\n",
       "        vertical-align: middle;\n",
       "    }\n",
       "\n",
       "    .dataframe tbody tr th {\n",
       "        vertical-align: top;\n",
       "    }\n",
       "\n",
       "    .dataframe thead th {\n",
       "        text-align: right;\n",
       "    }\n",
       "</style>\n",
       "<table border=\"1\" class=\"dataframe\">\n",
       "  <thead>\n",
       "    <tr style=\"text-align: right;\">\n",
       "      <th></th>\n",
       "      <th>count</th>\n",
       "      <th>mean</th>\n",
       "      <th>std</th>\n",
       "      <th>min</th>\n",
       "      <th>25%</th>\n",
       "      <th>50%</th>\n",
       "      <th>75%</th>\n",
       "      <th>max</th>\n",
       "    </tr>\n",
       "  </thead>\n",
       "  <tbody>\n",
       "    <tr>\n",
       "      <th>length</th>\n",
       "      <td>766.0</td>\n",
       "      <td>0.506086</td>\n",
       "      <td>0.289162</td>\n",
       "      <td>0.0</td>\n",
       "      <td>0.266187</td>\n",
       "      <td>0.503597</td>\n",
       "      <td>0.746403</td>\n",
       "      <td>1.0</td>\n",
       "    </tr>\n",
       "  </tbody>\n",
       "</table>\n",
       "</div>"
      ],
      "text/plain": [
       "        count      mean       std  min       25%       50%       75%  max\n",
       "length  766.0  0.506086  0.289162  0.0  0.266187  0.503597  0.746403  1.0"
      ]
     },
     "execution_count": 35,
     "metadata": {},
     "output_type": "execute_result"
    }
   ],
   "source": [
    "X_train_norm_df.describe().T"
   ]
  },
  {
   "cell_type": "code",
   "execution_count": null,
   "metadata": {},
   "outputs": [],
   "source": [
    "# I'm going to drop the column titles because ALL values are different - so there's no patter that could help explaining the rental \n",
    "# and we cannot really transform it as we will get with, for example, the OneHotEncoder as many columns as movie titles.\n",
    "# plus the columns for the train and the test set will be different"
   ]
  },
  {
   "cell_type": "code",
   "execution_count": 36,
   "metadata": {},
   "outputs": [],
   "source": [
    "X_train = X_train.drop(['title'], axis=1)"
   ]
  },
  {
   "cell_type": "code",
   "execution_count": 37,
   "metadata": {},
   "outputs": [],
   "source": [
    "X_test = X_test.drop(['title'], axis=1)"
   ]
  },
  {
   "cell_type": "code",
   "execution_count": 38,
   "metadata": {},
   "outputs": [
    {
     "data": {
      "text/html": [
       "<div>\n",
       "<style scoped>\n",
       "    .dataframe tbody tr th:only-of-type {\n",
       "        vertical-align: middle;\n",
       "    }\n",
       "\n",
       "    .dataframe tbody tr th {\n",
       "        vertical-align: top;\n",
       "    }\n",
       "\n",
       "    .dataframe thead th {\n",
       "        text-align: right;\n",
       "    }\n",
       "</style>\n",
       "<table border=\"1\" class=\"dataframe\">\n",
       "  <thead>\n",
       "    <tr style=\"text-align: right;\">\n",
       "      <th></th>\n",
       "      <th>rental_date</th>\n",
       "      <th>category_name</th>\n",
       "      <th>length</th>\n",
       "      <th>rental_rate</th>\n",
       "      <th>rating</th>\n",
       "    </tr>\n",
       "  </thead>\n",
       "  <tbody>\n",
       "    <tr>\n",
       "      <th>70</th>\n",
       "      <td>2005-05-29 10:18:59</td>\n",
       "      <td>Animation</td>\n",
       "      <td>65</td>\n",
       "      <td>0.99</td>\n",
       "      <td>PG-13</td>\n",
       "    </tr>\n",
       "    <tr>\n",
       "      <th>102</th>\n",
       "      <td>2005-05-25 19:07:40</td>\n",
       "      <td>Animation</td>\n",
       "      <td>85</td>\n",
       "      <td>2.99</td>\n",
       "      <td>R</td>\n",
       "    </tr>\n",
       "    <tr>\n",
       "      <th>515</th>\n",
       "      <td>2005-05-31 05:21:10</td>\n",
       "      <td>Foreign</td>\n",
       "      <td>181</td>\n",
       "      <td>0.99</td>\n",
       "      <td>G</td>\n",
       "    </tr>\n",
       "    <tr>\n",
       "      <th>120</th>\n",
       "      <td>2005-05-28 23:27:26</td>\n",
       "      <td>Animation</td>\n",
       "      <td>142</td>\n",
       "      <td>0.99</td>\n",
       "      <td>G</td>\n",
       "    </tr>\n",
       "    <tr>\n",
       "      <th>133</th>\n",
       "      <td>2005-06-16 02:35:03</td>\n",
       "      <td>Children</td>\n",
       "      <td>143</td>\n",
       "      <td>0.99</td>\n",
       "      <td>PG-13</td>\n",
       "    </tr>\n",
       "  </tbody>\n",
       "</table>\n",
       "</div>"
      ],
      "text/plain": [
       "            rental_date category_name  length rental_rate rating\n",
       "70  2005-05-29 10:18:59     Animation      65        0.99  PG-13\n",
       "102 2005-05-25 19:07:40     Animation      85        2.99      R\n",
       "515 2005-05-31 05:21:10       Foreign     181        0.99      G\n",
       "120 2005-05-28 23:27:26     Animation     142        0.99      G\n",
       "133 2005-06-16 02:35:03      Children     143        0.99  PG-13"
      ]
     },
     "execution_count": 38,
     "metadata": {},
     "output_type": "execute_result"
    }
   ],
   "source": [
    "X_train.head()"
   ]
  },
  {
   "cell_type": "code",
   "execution_count": 39,
   "metadata": {},
   "outputs": [],
   "source": [
    "X_train_cat = X_train.select_dtypes('object')\n",
    "X_test_cat  = X_test.select_dtypes('object')\n",
    "\n",
    "from sklearn.preprocessing import OneHotEncoder\n",
    "\n",
    "#categories_values = [list(data[col].unique()) for col in X_train_categorical.columns]\n",
    "encoder = OneHotEncoder(drop='first')\n",
    "encoder.fit(X_train_cat)\n",
    "\n",
    "X_train_cat_np = encoder.transform(X_train_cat).toarray()\n",
    "X_test_cat_np  = encoder.transform(X_test_cat).toarray()\n",
    "\n",
    "X_train_cat_oh_df = pd.DataFrame(X_train_cat_np, columns=encoder.get_feature_names_out())\n",
    "X_test_cat_oh_df  = pd.DataFrame(X_test_cat_np,  columns=encoder.get_feature_names_out())"
   ]
  },
  {
   "cell_type": "code",
   "execution_count": 40,
   "metadata": {},
   "outputs": [
    {
     "data": {
      "text/html": [
       "<div>\n",
       "<style scoped>\n",
       "    .dataframe tbody tr th:only-of-type {\n",
       "        vertical-align: middle;\n",
       "    }\n",
       "\n",
       "    .dataframe tbody tr th {\n",
       "        vertical-align: top;\n",
       "    }\n",
       "\n",
       "    .dataframe thead th {\n",
       "        text-align: right;\n",
       "    }\n",
       "</style>\n",
       "<table border=\"1\" class=\"dataframe\">\n",
       "  <thead>\n",
       "    <tr style=\"text-align: right;\">\n",
       "      <th></th>\n",
       "      <th>category_name_Animation</th>\n",
       "      <th>category_name_Children</th>\n",
       "      <th>category_name_Classics</th>\n",
       "      <th>category_name_Comedy</th>\n",
       "      <th>category_name_Documentary</th>\n",
       "      <th>category_name_Drama</th>\n",
       "      <th>category_name_Family</th>\n",
       "      <th>category_name_Foreign</th>\n",
       "      <th>category_name_Games</th>\n",
       "      <th>category_name_Horror</th>\n",
       "      <th>...</th>\n",
       "      <th>category_name_New</th>\n",
       "      <th>category_name_Sci-Fi</th>\n",
       "      <th>category_name_Sports</th>\n",
       "      <th>category_name_Travel</th>\n",
       "      <th>rental_rate_2.99</th>\n",
       "      <th>rental_rate_4.99</th>\n",
       "      <th>rating_NC-17</th>\n",
       "      <th>rating_PG</th>\n",
       "      <th>rating_PG-13</th>\n",
       "      <th>rating_R</th>\n",
       "    </tr>\n",
       "  </thead>\n",
       "  <tbody>\n",
       "    <tr>\n",
       "      <th>0</th>\n",
       "      <td>1.0</td>\n",
       "      <td>0.0</td>\n",
       "      <td>0.0</td>\n",
       "      <td>0.0</td>\n",
       "      <td>0.0</td>\n",
       "      <td>0.0</td>\n",
       "      <td>0.0</td>\n",
       "      <td>0.0</td>\n",
       "      <td>0.0</td>\n",
       "      <td>0.0</td>\n",
       "      <td>...</td>\n",
       "      <td>0.0</td>\n",
       "      <td>0.0</td>\n",
       "      <td>0.0</td>\n",
       "      <td>0.0</td>\n",
       "      <td>0.0</td>\n",
       "      <td>0.0</td>\n",
       "      <td>0.0</td>\n",
       "      <td>0.0</td>\n",
       "      <td>1.0</td>\n",
       "      <td>0.0</td>\n",
       "    </tr>\n",
       "    <tr>\n",
       "      <th>1</th>\n",
       "      <td>1.0</td>\n",
       "      <td>0.0</td>\n",
       "      <td>0.0</td>\n",
       "      <td>0.0</td>\n",
       "      <td>0.0</td>\n",
       "      <td>0.0</td>\n",
       "      <td>0.0</td>\n",
       "      <td>0.0</td>\n",
       "      <td>0.0</td>\n",
       "      <td>0.0</td>\n",
       "      <td>...</td>\n",
       "      <td>0.0</td>\n",
       "      <td>0.0</td>\n",
       "      <td>0.0</td>\n",
       "      <td>0.0</td>\n",
       "      <td>1.0</td>\n",
       "      <td>0.0</td>\n",
       "      <td>0.0</td>\n",
       "      <td>0.0</td>\n",
       "      <td>0.0</td>\n",
       "      <td>1.0</td>\n",
       "    </tr>\n",
       "    <tr>\n",
       "      <th>2</th>\n",
       "      <td>0.0</td>\n",
       "      <td>0.0</td>\n",
       "      <td>0.0</td>\n",
       "      <td>0.0</td>\n",
       "      <td>0.0</td>\n",
       "      <td>0.0</td>\n",
       "      <td>0.0</td>\n",
       "      <td>1.0</td>\n",
       "      <td>0.0</td>\n",
       "      <td>0.0</td>\n",
       "      <td>...</td>\n",
       "      <td>0.0</td>\n",
       "      <td>0.0</td>\n",
       "      <td>0.0</td>\n",
       "      <td>0.0</td>\n",
       "      <td>0.0</td>\n",
       "      <td>0.0</td>\n",
       "      <td>0.0</td>\n",
       "      <td>0.0</td>\n",
       "      <td>0.0</td>\n",
       "      <td>0.0</td>\n",
       "    </tr>\n",
       "    <tr>\n",
       "      <th>3</th>\n",
       "      <td>1.0</td>\n",
       "      <td>0.0</td>\n",
       "      <td>0.0</td>\n",
       "      <td>0.0</td>\n",
       "      <td>0.0</td>\n",
       "      <td>0.0</td>\n",
       "      <td>0.0</td>\n",
       "      <td>0.0</td>\n",
       "      <td>0.0</td>\n",
       "      <td>0.0</td>\n",
       "      <td>...</td>\n",
       "      <td>0.0</td>\n",
       "      <td>0.0</td>\n",
       "      <td>0.0</td>\n",
       "      <td>0.0</td>\n",
       "      <td>0.0</td>\n",
       "      <td>0.0</td>\n",
       "      <td>0.0</td>\n",
       "      <td>0.0</td>\n",
       "      <td>0.0</td>\n",
       "      <td>0.0</td>\n",
       "    </tr>\n",
       "    <tr>\n",
       "      <th>4</th>\n",
       "      <td>0.0</td>\n",
       "      <td>1.0</td>\n",
       "      <td>0.0</td>\n",
       "      <td>0.0</td>\n",
       "      <td>0.0</td>\n",
       "      <td>0.0</td>\n",
       "      <td>0.0</td>\n",
       "      <td>0.0</td>\n",
       "      <td>0.0</td>\n",
       "      <td>0.0</td>\n",
       "      <td>...</td>\n",
       "      <td>0.0</td>\n",
       "      <td>0.0</td>\n",
       "      <td>0.0</td>\n",
       "      <td>0.0</td>\n",
       "      <td>0.0</td>\n",
       "      <td>0.0</td>\n",
       "      <td>0.0</td>\n",
       "      <td>0.0</td>\n",
       "      <td>1.0</td>\n",
       "      <td>0.0</td>\n",
       "    </tr>\n",
       "  </tbody>\n",
       "</table>\n",
       "<p>5 rows × 21 columns</p>\n",
       "</div>"
      ],
      "text/plain": [
       "   category_name_Animation  category_name_Children  category_name_Classics  \\\n",
       "0                      1.0                     0.0                     0.0   \n",
       "1                      1.0                     0.0                     0.0   \n",
       "2                      0.0                     0.0                     0.0   \n",
       "3                      1.0                     0.0                     0.0   \n",
       "4                      0.0                     1.0                     0.0   \n",
       "\n",
       "   category_name_Comedy  category_name_Documentary  category_name_Drama  \\\n",
       "0                   0.0                        0.0                  0.0   \n",
       "1                   0.0                        0.0                  0.0   \n",
       "2                   0.0                        0.0                  0.0   \n",
       "3                   0.0                        0.0                  0.0   \n",
       "4                   0.0                        0.0                  0.0   \n",
       "\n",
       "   category_name_Family  category_name_Foreign  category_name_Games  \\\n",
       "0                   0.0                    0.0                  0.0   \n",
       "1                   0.0                    0.0                  0.0   \n",
       "2                   0.0                    1.0                  0.0   \n",
       "3                   0.0                    0.0                  0.0   \n",
       "4                   0.0                    0.0                  0.0   \n",
       "\n",
       "   category_name_Horror  ...  category_name_New  category_name_Sci-Fi  \\\n",
       "0                   0.0  ...                0.0                   0.0   \n",
       "1                   0.0  ...                0.0                   0.0   \n",
       "2                   0.0  ...                0.0                   0.0   \n",
       "3                   0.0  ...                0.0                   0.0   \n",
       "4                   0.0  ...                0.0                   0.0   \n",
       "\n",
       "   category_name_Sports  category_name_Travel  rental_rate_2.99  \\\n",
       "0                   0.0                   0.0               0.0   \n",
       "1                   0.0                   0.0               1.0   \n",
       "2                   0.0                   0.0               0.0   \n",
       "3                   0.0                   0.0               0.0   \n",
       "4                   0.0                   0.0               0.0   \n",
       "\n",
       "   rental_rate_4.99  rating_NC-17  rating_PG  rating_PG-13  rating_R  \n",
       "0               0.0           0.0        0.0           1.0       0.0  \n",
       "1               0.0           0.0        0.0           0.0       1.0  \n",
       "2               0.0           0.0        0.0           0.0       0.0  \n",
       "3               0.0           0.0        0.0           0.0       0.0  \n",
       "4               0.0           0.0        0.0           1.0       0.0  \n",
       "\n",
       "[5 rows x 21 columns]"
      ]
     },
     "execution_count": 40,
     "metadata": {},
     "output_type": "execute_result"
    }
   ],
   "source": [
    "X_train_cat_oh_df.head()"
   ]
  },
  {
   "attachments": {},
   "cell_type": "markdown",
   "metadata": {},
   "source": [
    "Plot distributions"
   ]
  },
  {
   "cell_type": "code",
   "execution_count": 43,
   "metadata": {},
   "outputs": [
    {
     "data": {
      "image/png": "[encoded data removed]",
      "text/plain": [
       "<Figure size 1000x1000 with 1 Axes>"
      ]
     },
     "metadata": {},
     "output_type": "display_data"
    }
   ],
   "source": [
    "draw_histograms(X_train_norm_df, X_train_norm_df.columns, 5, 1) "
   ]
  },
  {
   "attachments": {},
   "cell_type": "markdown",
   "metadata": {},
   "source": [
    "## Logistic regression"
   ]
  },
  {
   "cell_type": "code",
   "execution_count": 44,
   "metadata": {},
   "outputs": [],
   "source": [
    "X_train_transformed = pd.concat([X_train_norm_df, X_train_cat_oh_df], axis=1)\n",
    "X_test_transformed = pd.concat([X_test_norm_df, X_test_cat_oh_df], axis=1)"
   ]
  },
  {
   "cell_type": "code",
   "execution_count": 45,
   "metadata": {},
   "outputs": [
    {
     "data": {
      "text/html": [
       "<div>\n",
       "<style scoped>\n",
       "    .dataframe tbody tr th:only-of-type {\n",
       "        vertical-align: middle;\n",
       "    }\n",
       "\n",
       "    .dataframe tbody tr th {\n",
       "        vertical-align: top;\n",
       "    }\n",
       "\n",
       "    .dataframe thead th {\n",
       "        text-align: right;\n",
       "    }\n",
       "</style>\n",
       "<table border=\"1\" class=\"dataframe\">\n",
       "  <thead>\n",
       "    <tr style=\"text-align: right;\">\n",
       "      <th></th>\n",
       "      <th>length</th>\n",
       "      <th>category_name_Animation</th>\n",
       "      <th>category_name_Children</th>\n",
       "      <th>category_name_Classics</th>\n",
       "      <th>category_name_Comedy</th>\n",
       "      <th>category_name_Documentary</th>\n",
       "      <th>category_name_Drama</th>\n",
       "      <th>category_name_Family</th>\n",
       "      <th>category_name_Foreign</th>\n",
       "      <th>category_name_Games</th>\n",
       "      <th>...</th>\n",
       "      <th>category_name_New</th>\n",
       "      <th>category_name_Sci-Fi</th>\n",
       "      <th>category_name_Sports</th>\n",
       "      <th>category_name_Travel</th>\n",
       "      <th>rental_rate_2.99</th>\n",
       "      <th>rental_rate_4.99</th>\n",
       "      <th>rating_NC-17</th>\n",
       "      <th>rating_PG</th>\n",
       "      <th>rating_PG-13</th>\n",
       "      <th>rating_R</th>\n",
       "    </tr>\n",
       "  </thead>\n",
       "  <tbody>\n",
       "    <tr>\n",
       "      <th>0</th>\n",
       "      <td>0.136691</td>\n",
       "      <td>1.0</td>\n",
       "      <td>0.0</td>\n",
       "      <td>0.0</td>\n",
       "      <td>0.0</td>\n",
       "      <td>0.0</td>\n",
       "      <td>0.0</td>\n",
       "      <td>0.0</td>\n",
       "      <td>0.0</td>\n",
       "      <td>0.0</td>\n",
       "      <td>...</td>\n",
       "      <td>0.0</td>\n",
       "      <td>0.0</td>\n",
       "      <td>0.0</td>\n",
       "      <td>0.0</td>\n",
       "      <td>0.0</td>\n",
       "      <td>0.0</td>\n",
       "      <td>0.0</td>\n",
       "      <td>0.0</td>\n",
       "      <td>1.0</td>\n",
       "      <td>0.0</td>\n",
       "    </tr>\n",
       "    <tr>\n",
       "      <th>1</th>\n",
       "      <td>0.280576</td>\n",
       "      <td>1.0</td>\n",
       "      <td>0.0</td>\n",
       "      <td>0.0</td>\n",
       "      <td>0.0</td>\n",
       "      <td>0.0</td>\n",
       "      <td>0.0</td>\n",
       "      <td>0.0</td>\n",
       "      <td>0.0</td>\n",
       "      <td>0.0</td>\n",
       "      <td>...</td>\n",
       "      <td>0.0</td>\n",
       "      <td>0.0</td>\n",
       "      <td>0.0</td>\n",
       "      <td>0.0</td>\n",
       "      <td>1.0</td>\n",
       "      <td>0.0</td>\n",
       "      <td>0.0</td>\n",
       "      <td>0.0</td>\n",
       "      <td>0.0</td>\n",
       "      <td>1.0</td>\n",
       "    </tr>\n",
       "    <tr>\n",
       "      <th>2</th>\n",
       "      <td>0.971223</td>\n",
       "      <td>0.0</td>\n",
       "      <td>0.0</td>\n",
       "      <td>0.0</td>\n",
       "      <td>0.0</td>\n",
       "      <td>0.0</td>\n",
       "      <td>0.0</td>\n",
       "      <td>0.0</td>\n",
       "      <td>1.0</td>\n",
       "      <td>0.0</td>\n",
       "      <td>...</td>\n",
       "      <td>0.0</td>\n",
       "      <td>0.0</td>\n",
       "      <td>0.0</td>\n",
       "      <td>0.0</td>\n",
       "      <td>0.0</td>\n",
       "      <td>0.0</td>\n",
       "      <td>0.0</td>\n",
       "      <td>0.0</td>\n",
       "      <td>0.0</td>\n",
       "      <td>0.0</td>\n",
       "    </tr>\n",
       "    <tr>\n",
       "      <th>3</th>\n",
       "      <td>0.690647</td>\n",
       "      <td>1.0</td>\n",
       "      <td>0.0</td>\n",
       "      <td>0.0</td>\n",
       "      <td>0.0</td>\n",
       "      <td>0.0</td>\n",
       "      <td>0.0</td>\n",
       "      <td>0.0</td>\n",
       "      <td>0.0</td>\n",
       "      <td>0.0</td>\n",
       "      <td>...</td>\n",
       "      <td>0.0</td>\n",
       "      <td>0.0</td>\n",
       "      <td>0.0</td>\n",
       "      <td>0.0</td>\n",
       "      <td>0.0</td>\n",
       "      <td>0.0</td>\n",
       "      <td>0.0</td>\n",
       "      <td>0.0</td>\n",
       "      <td>0.0</td>\n",
       "      <td>0.0</td>\n",
       "    </tr>\n",
       "    <tr>\n",
       "      <th>4</th>\n",
       "      <td>0.697842</td>\n",
       "      <td>0.0</td>\n",
       "      <td>1.0</td>\n",
       "      <td>0.0</td>\n",
       "      <td>0.0</td>\n",
       "      <td>0.0</td>\n",
       "      <td>0.0</td>\n",
       "      <td>0.0</td>\n",
       "      <td>0.0</td>\n",
       "      <td>0.0</td>\n",
       "      <td>...</td>\n",
       "      <td>0.0</td>\n",
       "      <td>0.0</td>\n",
       "      <td>0.0</td>\n",
       "      <td>0.0</td>\n",
       "      <td>0.0</td>\n",
       "      <td>0.0</td>\n",
       "      <td>0.0</td>\n",
       "      <td>0.0</td>\n",
       "      <td>1.0</td>\n",
       "      <td>0.0</td>\n",
       "    </tr>\n",
       "  </tbody>\n",
       "</table>\n",
       "<p>5 rows × 22 columns</p>\n",
       "</div>"
      ],
      "text/plain": [
       "     length  category_name_Animation  category_name_Children  \\\n",
       "0  0.136691                      1.0                     0.0   \n",
       "1  0.280576                      1.0                     0.0   \n",
       "2  0.971223                      0.0                     0.0   \n",
       "3  0.690647                      1.0                     0.0   \n",
       "4  0.697842                      0.0                     1.0   \n",
       "\n",
       "   category_name_Classics  category_name_Comedy  category_name_Documentary  \\\n",
       "0                     0.0                   0.0                        0.0   \n",
       "1                     0.0                   0.0                        0.0   \n",
       "2                     0.0                   0.0                        0.0   \n",
       "3                     0.0                   0.0                        0.0   \n",
       "4                     0.0                   0.0                        0.0   \n",
       "\n",
       "   category_name_Drama  category_name_Family  category_name_Foreign  \\\n",
       "0                  0.0                   0.0                    0.0   \n",
       "1                  0.0                   0.0                    0.0   \n",
       "2                  0.0                   0.0                    1.0   \n",
       "3                  0.0                   0.0                    0.0   \n",
       "4                  0.0                   0.0                    0.0   \n",
       "\n",
       "   category_name_Games  ...  category_name_New  category_name_Sci-Fi  \\\n",
       "0                  0.0  ...                0.0                   0.0   \n",
       "1                  0.0  ...                0.0                   0.0   \n",
       "2                  0.0  ...                0.0                   0.0   \n",
       "3                  0.0  ...                0.0                   0.0   \n",
       "4                  0.0  ...                0.0                   0.0   \n",
       "\n",
       "   category_name_Sports  category_name_Travel  rental_rate_2.99  \\\n",
       "0                   0.0                   0.0               0.0   \n",
       "1                   0.0                   0.0               1.0   \n",
       "2                   0.0                   0.0               0.0   \n",
       "3                   0.0                   0.0               0.0   \n",
       "4                   0.0                   0.0               0.0   \n",
       "\n",
       "   rental_rate_4.99  rating_NC-17  rating_PG  rating_PG-13  rating_R  \n",
       "0               0.0           0.0        0.0           1.0       0.0  \n",
       "1               0.0           0.0        0.0           0.0       1.0  \n",
       "2               0.0           0.0        0.0           0.0       0.0  \n",
       "3               0.0           0.0        0.0           0.0       0.0  \n",
       "4               0.0           0.0        0.0           1.0       0.0  \n",
       "\n",
       "[5 rows x 22 columns]"
      ]
     },
     "execution_count": 45,
     "metadata": {},
     "output_type": "execute_result"
    }
   ],
   "source": [
    "X_train_transformed.head()"
   ]
  },
  {
   "cell_type": "code",
   "execution_count": 46,
   "metadata": {},
   "outputs": [
    {
     "data": {
      "text/plain": [
       "LogisticRegression(multi_class='multinomial', random_state=0)"
      ]
     },
     "execution_count": 46,
     "metadata": {},
     "output_type": "execute_result"
    }
   ],
   "source": [
    "from sklearn.linear_model import LogisticRegression\n",
    "\n",
    "logreg1 = LogisticRegression(random_state=0, solver='lbfgs', multi_class='multinomial')\n",
    "\n",
    "logreg1.fit(X_train_transformed, y_train)"
   ]
  },
  {
   "attachments": {},
   "cell_type": "markdown",
   "metadata": {},
   "source": [
    "### Predictions"
   ]
  },
  {
   "cell_type": "code",
   "execution_count": 47,
   "metadata": {},
   "outputs": [
    {
     "name": "stdout",
     "output_type": "stream",
     "text": [
      "[1 1 1 1 1 1 1 1 1 1 1 1 1 1 1 1 1 1 1 1 1 1 1 1 1 1 1 1 1 1 1 1 1 1 1 1 1\n",
      " 1 1 1 1 1 1 1 1 1 1 1 1 1 1 1 1 1 1 1 1 1 1 1 1 1 1 1 1 1 1 1 1 1 1 1 1 1\n",
      " 1 1 1 1 1 1 1 1 1 1 1 1 1 1 1 1 1 1 1 1 1 1 1 1 1 1 1 1 1 1 1 1 1 1 1 1 1\n",
      " 1 1 1 1 1 1 1 1 1 1 1 1 1 1 1 1 1 1 1 1 1 1 1 1 1 1 1 1 1 1 1 1 1 1 1 1 1\n",
      " 1 1 1 1 1 1 1 1 1 1 1 1 1 1 1 1 1 1 1 1 1 1 1 1 1 1 1 1 1 1 1 1 1 1 1 1 1\n",
      " 1 1 1 1 1 1 1]\n"
     ]
    }
   ],
   "source": [
    "y_test_pred1 = logreg1.predict(X_test_transformed)\n",
    "print(y_test_pred1)"
   ]
  },
  {
   "cell_type": "code",
   "execution_count": 48,
   "metadata": {},
   "outputs": [
    {
     "data": {
      "text/html": [
       "<div>\n",
       "<style scoped>\n",
       "    .dataframe tbody tr th:only-of-type {\n",
       "        vertical-align: middle;\n",
       "    }\n",
       "\n",
       "    .dataframe tbody tr th {\n",
       "        vertical-align: top;\n",
       "    }\n",
       "\n",
       "    .dataframe thead th {\n",
       "        text-align: right;\n",
       "    }\n",
       "</style>\n",
       "<table border=\"1\" class=\"dataframe\">\n",
       "  <thead>\n",
       "    <tr style=\"text-align: right;\">\n",
       "      <th></th>\n",
       "      <th>length</th>\n",
       "      <th>category_name_Animation</th>\n",
       "      <th>category_name_Children</th>\n",
       "      <th>category_name_Classics</th>\n",
       "      <th>category_name_Comedy</th>\n",
       "      <th>category_name_Documentary</th>\n",
       "      <th>category_name_Drama</th>\n",
       "      <th>category_name_Family</th>\n",
       "      <th>category_name_Foreign</th>\n",
       "      <th>category_name_Games</th>\n",
       "      <th>...</th>\n",
       "      <th>category_name_New</th>\n",
       "      <th>category_name_Sci-Fi</th>\n",
       "      <th>category_name_Sports</th>\n",
       "      <th>category_name_Travel</th>\n",
       "      <th>rental_rate_2.99</th>\n",
       "      <th>rental_rate_4.99</th>\n",
       "      <th>rating_NC-17</th>\n",
       "      <th>rating_PG</th>\n",
       "      <th>rating_PG-13</th>\n",
       "      <th>rating_R</th>\n",
       "    </tr>\n",
       "  </thead>\n",
       "  <tbody>\n",
       "    <tr>\n",
       "      <th>0</th>\n",
       "      <td>0.059387</td>\n",
       "      <td>0.01794</td>\n",
       "      <td>-0.039807</td>\n",
       "      <td>-0.059431</td>\n",
       "      <td>-0.199808</td>\n",
       "      <td>0.005037</td>\n",
       "      <td>0.146941</td>\n",
       "      <td>0.010691</td>\n",
       "      <td>-0.130426</td>\n",
       "      <td>-0.219209</td>\n",
       "      <td>...</td>\n",
       "      <td>-0.359678</td>\n",
       "      <td>0.026944</td>\n",
       "      <td>-0.251677</td>\n",
       "      <td>-0.288705</td>\n",
       "      <td>-0.18978</td>\n",
       "      <td>-0.009978</td>\n",
       "      <td>0.02078</td>\n",
       "      <td>0.052795</td>\n",
       "      <td>0.037799</td>\n",
       "      <td>-0.046254</td>\n",
       "    </tr>\n",
       "  </tbody>\n",
       "</table>\n",
       "<p>1 rows × 22 columns</p>\n",
       "</div>"
      ],
      "text/plain": [
       "     length  category_name_Animation  category_name_Children  \\\n",
       "0  0.059387                  0.01794               -0.039807   \n",
       "\n",
       "   category_name_Classics  category_name_Comedy  category_name_Documentary  \\\n",
       "0               -0.059431             -0.199808                   0.005037   \n",
       "\n",
       "   category_name_Drama  category_name_Family  category_name_Foreign  \\\n",
       "0             0.146941              0.010691              -0.130426   \n",
       "\n",
       "   category_name_Games  ...  category_name_New  category_name_Sci-Fi  \\\n",
       "0            -0.219209  ...          -0.359678              0.026944   \n",
       "\n",
       "   category_name_Sports  category_name_Travel  rental_rate_2.99  \\\n",
       "0             -0.251677             -0.288705          -0.18978   \n",
       "\n",
       "   rental_rate_4.99  rating_NC-17  rating_PG  rating_PG-13  rating_R  \n",
       "0         -0.009978       0.02078   0.052795      0.037799 -0.046254  \n",
       "\n",
       "[1 rows x 22 columns]"
      ]
     },
     "execution_count": 48,
     "metadata": {},
     "output_type": "execute_result"
    }
   ],
   "source": [
    "coef_table = pd.DataFrame(list(logreg1.coef_),columns=X_test_transformed.columns) # Coefficients\n",
    "coef_table"
   ]
  },
  {
   "attachments": {},
   "cell_type": "markdown",
   "metadata": {},
   "source": [
    "### Evaluating the model"
   ]
  },
  {
   "cell_type": "code",
   "execution_count": 51,
   "metadata": {},
   "outputs": [
    {
     "name": "stdout",
     "output_type": "stream",
     "text": [
      "Accuracy (test set): 0.66\n",
      "Precision (test set): 0.66\n",
      "Recall (test set): 1.00\n",
      "F1 (test set): 0.79\n",
      "Kappa (test set): 0.00\n"
     ]
    }
   ],
   "source": [
    "from sklearn.metrics import accuracy_score, precision_score, recall_score, f1_score, cohen_kappa_score\n",
    "\n",
    "print(\"Accuracy (test set): {:.2f}\".format(accuracy_score(y_test,y_test_pred1)))\n",
    "print(\"Precision (test set): {:.2f}\".format(precision_score(y_test,y_test_pred1)))\n",
    "print(\"Recall (test set): {:.2f}\".format(recall_score(y_test,y_test_pred1)))\n",
    "print(\"F1 (test set): {:.2f}\".format(f1_score(y_test,y_test_pred1)))\n",
    "print(\"Kappa (test set): {:.2f}\".format(cohen_kappa_score(y_test,y_test_pred1)))"
   ]
  },
  {
   "cell_type": "code",
   "execution_count": 52,
   "metadata": {},
   "outputs": [
    {
     "data": {
      "image/png": "[encoded data removed]",
      "text/plain": [
       "<Figure size 640x480 with 2 Axes>"
      ]
     },
     "metadata": {},
     "output_type": "display_data"
    }
   ],
   "source": [
    "from sklearn.metrics import confusion_matrix, ConfusionMatrixDisplay\n",
    "\n",
    "cm_test1 = confusion_matrix(y_test,y_test_pred1) # real and predicted values\n",
    "disp = ConfusionMatrixDisplay(confusion_matrix=cm_test1, display_labels=logreg1.classes_) # labels of the classes\n",
    "disp.plot()\n",
    "plt.show()"
   ]
  },
  {
   "cell_type": "code",
   "execution_count": 53,
   "metadata": {},
   "outputs": [
    {
     "name": "stdout",
     "output_type": "stream",
     "text": [
      "              precision    recall  f1-score   support\n",
      "\n",
      "           0       0.00      0.00      0.00        66\n",
      "           1       0.66      1.00      0.79       126\n",
      "\n",
      "    accuracy                           0.66       192\n",
      "   macro avg       0.33      0.50      0.40       192\n",
      "weighted avg       0.43      0.66      0.52       192\n",
      "\n"
     ]
    },
    {
     "name": "stderr",
     "output_type": "stream",
     "text": [
      "c:\\Users\\marta\\anaconda3\\lib\\site-packages\\sklearn\\metrics\\_classification.py:1318: UndefinedMetricWarning: Precision and F-score are ill-defined and being set to 0.0 in labels with no predicted samples. Use `zero_division` parameter to control this behavior.\n",
      "  _warn_prf(average, modifier, msg_start, len(result))\n",
      "c:\\Users\\marta\\anaconda3\\lib\\site-packages\\sklearn\\metrics\\_classification.py:1318: UndefinedMetricWarning: Precision and F-score are ill-defined and being set to 0.0 in labels with no predicted samples. Use `zero_division` parameter to control this behavior.\n",
      "  _warn_prf(average, modifier, msg_start, len(result))\n",
      "c:\\Users\\marta\\anaconda3\\lib\\site-packages\\sklearn\\metrics\\_classification.py:1318: UndefinedMetricWarning: Precision and F-score are ill-defined and being set to 0.0 in labels with no predicted samples. Use `zero_division` parameter to control this behavior.\n",
      "  _warn_prf(average, modifier, msg_start, len(result))\n"
     ]
    }
   ],
   "source": [
    "from sklearn.metrics import classification_report\n",
    "print(classification_report(y_test, y_test_pred1))"
   ]
  },
  {
   "attachments": {},
   "cell_type": "markdown",
   "metadata": {},
   "source": [
    "## Conclusions\n",
    "- The model only predicted that ALL movies will be rented (recall = 1).\n",
    "- This is probably due to the high class imbalance between the movies that are rented in may and those that are not ('0'. Very few movies)\n",
    "- Also, it would be worth to apply other scaler/transformetion to the numerical variable,"
   ]
  },
  {
   "attachments": {},
   "cell_type": "markdown",
   "metadata": {},
   "source": [
    "Important to check ALL error metrics, not only the accuracy (check 3.09 notebook - week3, day5)"
   ]
  },
  {
   "attachments": {},
   "cell_type": "markdown",
   "metadata": {},
   "source": [
    "_The code below is just for testing_"
   ]
  },
  {
   "cell_type": "code",
   "execution_count": 74,
   "metadata": {},
   "outputs": [
    {
     "data": {
      "text/plain": [
       "LogisticRegression(multi_class='multinomial', random_state=0, solver='saga')"
      ]
     },
     "execution_count": 74,
     "metadata": {},
     "output_type": "execute_result"
    }
   ],
   "source": [
    "logreg2 = LogisticRegression(random_state=0, solver='saga', multi_class='multinomial')\n",
    "\n",
    "logreg2.fit(X_train_transformed, y_train)"
   ]
  },
  {
   "cell_type": "code",
   "execution_count": 75,
   "metadata": {},
   "outputs": [
    {
     "name": "stdout",
     "output_type": "stream",
     "text": [
      "[1 1 1 1 1 1 1 1 1 1 1 1 1 1 1 1 1 1 1 1 1 1 1 1 1 1 1 1 1 1 1 1 1 1 1 1 1\n",
      " 1 1 1 1 1 1 1 1 1 1 1 1 1 1 1 1 1 1 1 1 1 1 1 1 1 1 1 1 1 1 1 1 1 1 1 1 1\n",
      " 1 1 1 1 1 1 1 1 1 1 1 1 1 1 1 1 1 1 1 1 1 1 1 1 1 1 1 1 1 1 1 1 1 1 1 1 1\n",
      " 1 1 1 1 1 1 1 1 1 1 1 1 1 1 1 1 1 1 1 1 1 1 1 1 1 1 1 1 1 1 1 1 1 1 1 1 1\n",
      " 1 1 1 1 1 1 1 1 1 1 1 1 1 1 1 1 1 1 1 1 1 1 1 1 1 1 1 1 1 1 1 1 1 1 1 1 1\n",
      " 1 1 1 1 1 1 1]\n"
     ]
    }
   ],
   "source": [
    "y_test_pred2 = logreg2.predict(X_test_transformed)\n",
    "print(y_test_pred2)"
   ]
  }
 ],
 "metadata": {
  "kernelspec": {
   "display_name": "base",
   "language": "python",
   "name": "python3"
  },
  "language_info": {
   "codemirror_mode": {
    "name": "ipython",
    "version": 3
   },
   "file_extension": ".py",
   "mimetype": "text/x-python",
   "name": "python",
   "nbconvert_exporter": "python",
   "pygments_lexer": "ipython3",
   "version": "3.9.13"
  },
  "orig_nbformat": 4
 },
 "nbformat": 4,
 "nbformat_minor": 2
}
